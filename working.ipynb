{
 "cells": [
  {
   "cell_type": "markdown",
   "metadata": {},
   "source": [
    "# **Finding Lane Lines on the Road** \n",
    "\n",
    "### REFLECTION!\n",
    "\n",
    "This is actually my *first* attempt at drawing lane lines. Here's basically how it works:\n",
    "1. Get image data, turn it into grayscale, draw a region of interest and then do cannied and hough transforms on it to finally get a list of lines called *houghlines*\n",
    "2. Now, I look through the houghlines and separate them into two new lists, *left* and *right*. If a line's slope is -ve, I append it into 'left' and if it is +ve, I put it into 'right'. Flat lines are therefore ignored.\n",
    "3. For each lane side, I use a function called 'find_endpts' which finds 2 points: first, the 'lowest' point on the lane which is closest to the camera, and the 'highest' point on the lane which is farthest away. I will use these two points to draw a line between them.\n",
    "4. I use a function called 'lane_line' to return a new line which has the slope and intercept of the end-points (found in step 3), and then draws a complete lane marking.\n",
    "\n",
    "I actually got done with this 2 days ago, but have been trying to improve on it because this algorithm breaks into a million little pieces when I try to use it on the yellow and challenge videos. :(\n",
    "\n",
    "The reason is simple - if a particular line has an infinite slope (which happens to be the case in both those videos). My real code has actually come a loooong way in these 2 days and uses a totally different algorithm (and believe me I've been dreaming algorithms in my sleep trying to fix this), but I just HAD to submit this on the deadline. So here it goes.... *(cries softly)*"
   ]
  },
  {
   "cell_type": "code",
   "execution_count": 5,
   "metadata": {
    "collapsed": false,
    "scrolled": true
   },
   "outputs": [],
   "source": [
    "#importing some useful packages\n",
    "import matplotlib.pyplot as plt\n",
    "import matplotlib.image as mpimg\n",
    "import numpy as np\n",
    "import cv2\n",
    "import math\n",
    "%matplotlib inline"
   ]
  },
  {
   "cell_type": "markdown",
   "metadata": {},
   "source": [
    "Below are some helper functions to help get you started. They should look familiar from the lesson!"
   ]
  },
  {
   "cell_type": "code",
   "execution_count": 6,
   "metadata": {
    "collapsed": true
   },
   "outputs": [],
   "source": [
    "import math\n",
    "\n",
    "def grayscale(img):\n",
    "    \"\"\"Applies the Grayscale transform\n",
    "    This will return an image with only one color channel\n",
    "    but NOTE: to see the returned image as grayscale\n",
    "    you should call plt.imshow(gray, cmap='gray')\"\"\"\n",
    "    return cv2.cvtColor(img, cv2.COLOR_RGB2GRAY)\n",
    "    # Or use BGR2GRAY if you read an image with cv2.imread()\n",
    "    # return cv2.cvtColor(img, cv2.COLOR_BGR2GRAY)\n",
    "    \n",
    "def canny(img, low_threshold, high_threshold):\n",
    "    \"\"\"Applies the Canny transform\"\"\"\n",
    "    return cv2.Canny(img, low_threshold, high_threshold)\n",
    "\n",
    "def gaussian_blur(img, kernel_size):\n",
    "    \"\"\"Applies a Gaussian Noise kernel\"\"\"\n",
    "    return cv2.GaussianBlur(img, (kernel_size, kernel_size), 0)\n",
    "\n",
    "def region_of_interest(img, vertices):\n",
    "    \"\"\"\n",
    "    Applies an image mask.\n",
    "    \n",
    "    Only keeps the region of the image defined by the polygon\n",
    "    formed from `vertices`. The rest of the image is set to black.\n",
    "    \"\"\"\n",
    "    #defining a blank mask to start with\n",
    "    mask = np.zeros_like(img)   \n",
    "    \n",
    "    #defining a 3 channel or 1 channel color to fill the mask with depending on the input image\n",
    "    if len(img.shape) > 2:\n",
    "        channel_count = img.shape[2]  # i.e. 3 or 4 depending on your image\n",
    "        ignore_mask_color = (255,) * channel_count\n",
    "    else:\n",
    "        ignore_mask_color = 255\n",
    "        \n",
    "    #filling pixels inside the polygon defined by \"vertices\" with the fill color    \n",
    "    cv2.fillPoly(mask, vertices, ignore_mask_color)\n",
    "    \n",
    "    #returning the image only where mask pixels are nonzero\n",
    "    masked_image = cv2.bitwise_and(img, mask)\n",
    "    return masked_image\n",
    "\n",
    "\n",
    "def draw_lines(img, lines, color=[255, 0, 0], thickness=3):\n",
    "    \"\"\"\n",
    "    NOTE: this is the function you might want to use as a starting point once you want to \n",
    "    average/extrapolate the line segments you detect to map out the full\n",
    "    extent of the lane (going from the result shown in raw-lines-example.mp4\n",
    "    to that shown in P1_example.mp4).  \n",
    "    \n",
    "    Think about things like separating line segments by their \n",
    "    slope ((y2-y1)/(x2-x1)) to decide which segments are part of the left\n",
    "    line vs. the right line.  Then, you can average the position of each of \n",
    "    the lines and extrapolate to the top and bottom of the lane.\n",
    "    \n",
    "    This function draws `lines` with `color` and `thickness`.    \n",
    "    Lines are drawn on the image inplace (mutates the image).\n",
    "    If you want to make the lines semi-transparent, think about combining\n",
    "    this function with the weighted_img() function below\n",
    "    \"\"\"\n",
    "    for line in lines:\n",
    "        for x1,y1,x2,y2 in line:\n",
    "            cv2.line(img, (x1, y1), (x2, y2), color, thickness)\n",
    "\n",
    "def hough_lines(img, rho, theta, threshold, min_line_len, max_line_gap):\n",
    "    \"\"\"\n",
    "    `img` should be the output of a Canny transform.\n",
    "        \n",
    "    Returns an image with hough lines drawn.\n",
    "    \"\"\"\n",
    "    lines = cv2.HoughLinesP(img, rho, theta, threshold, np.array([]), minLineLength=min_line_len, maxLineGap=max_line_gap)\n",
    "    line_img = np.zeros((img.shape[0], img.shape[1], 3), dtype=np.uint8)\n",
    "    draw_lines(line_img, lines)\n",
    "    return line_img\n",
    "\n",
    "# Python 3 has support for cool math symbols.\n",
    "\n",
    "def weighted_img(img, initial_img, α=0.8, β=1., λ=0.):\n",
    "    \"\"\"\n",
    "    `img` is the output of the hough_lines(), An image with lines drawn on it.\n",
    "    Should be a blank image (all black) with lines drawn on it.\n",
    "    \n",
    "    `initial_img` should be the image before any processing.\n",
    "    \n",
    "    The result image is computed as follows:\n",
    "    \n",
    "    initial_img * α + img * β + λ\n",
    "    NOTE: initial_img and img must be the same shape!\n",
    "    \"\"\"\n",
    "    return cv2.addWeighted(initial_img, α, img, β, λ)\n",
    "\n",
    "# Didn't end up this function in my final algorithm\n",
    "def find_endpts(lines):\n",
    "    lowest = [lines[0][0][0], lines[0][0][1]]\n",
    "    highest = [lines[0][0][2], lines[0][0][3]]\n",
    "    \n",
    "    for line in lines:\n",
    "        if line[0][1] > lowest[1]:\n",
    "            lowest = [line[0][0], line[0][1]]\n",
    "        if line[0][3] < highest[1]:\n",
    "            highest = [line[0][2], line[0][3]]\n",
    "    return [lowest, highest]\n",
    "\n",
    "# Didn't end up this function in my final algorithm\n",
    "def lane_line(x1, y1, x2, y2):\n",
    "    m = (y2-y1)/(x2-x1)\n",
    "    b = (y2 - (m*x2))\n",
    "    \n",
    "    v1 = 539\n",
    "    v2 = 320\n",
    "    \n",
    "    u1 = int((v1-b)/m)\n",
    "    u2 = int((v2-b)/m)\n",
    "    \n",
    "    return [u1, v1, u2, v2]\n",
    "\n",
    "\n",
    "def valid_slope(ends):\n",
    "    if (ends[0][0] == ends[1][0]) or (ends[0][1] == ends[1][1]):\n",
    "        return False\n",
    "    else:\n",
    "        return True\n",
    "    \n",
    "def get_slope(lst):\n",
    "    return (((lst[3]-lst[1])/(lst[2]-lst[0]))*180/np.pi)\n",
    "\n",
    "def median_slope(lines):\n",
    "    slopes = []\n",
    "    for line in lines:\n",
    "        slopes.append(((line[3]-line[1])/(line[2]-line[0]))*180/np.pi)\n",
    "    return np.median(slopes)\n"
   ]
  },
  {
   "cell_type": "markdown",
   "metadata": {},
   "source": [
    "## Test on Videos\n",
    "\n",
    "You know what's cooler than drawing lanes over images? Drawing lanes over video!\n",
    "\n",
    "We can test our solution on two provided videos:\n",
    "\n",
    "`solidWhiteRight.mp4`\n",
    "\n",
    "`solidYellowLeft.mp4`"
   ]
  },
  {
   "cell_type": "code",
   "execution_count": 15,
   "metadata": {
    "collapsed": true
   },
   "outputs": [],
   "source": [
    "# Import everything needed to edit/save/watch video clips\n",
    "from moviepy.editor import VideoFileClip\n",
    "from IPython.display import HTML"
   ]
  },
  {
   "cell_type": "code",
   "execution_count": 14,
   "metadata": {
    "collapsed": false
   },
   "outputs": [],
   "source": [
    "def process_image(image):\n",
    "    # NOTE: The output you return should be a color image (3 channel) for processing video below\n",
    "    # TODO: put your pipeline here,\n",
    "    # you should return the final output (image with lines are drawn on lanes)\n",
    "    \n",
    "    global left_previous\n",
    "    global right_previous\n",
    "    \n",
    "    width = image.shape[1]\n",
    "    height = image.shape[0]\n",
    "    center_height = int(height * 0.5926)\n",
    "    left_bottom = int(width * 0.10625)\n",
    "    right_bottom = int(width - (width * 0.0625))\n",
    "    left_center = int((width/2) - (width * 0.0108))\n",
    "    right_center = int((width/2) + (width * 0.0521))\n",
    "    \n",
    "    blue = image[:,:,0]\n",
    "    blurred = gaussian_blur(blue, 7)\n",
    "    cannied = canny(blurred, 80, 200)\n",
    "    vertices = np.array([[[left_bottom, height], [left_center, center_height], [right_center, center_height], [right_bottom, height]]])\n",
    "    cannied_region = region_of_interest(cannied, vertices)\n",
    "\n",
    "    line_img = np.zeros((image.shape[0], image.shape[1], 3), dtype=np.uint8)\n",
    "    #cv2.fillPoly(line_img, vertices, [100,0,0])\n",
    "    houghlines = cv2.HoughLinesP(cannied_region, 0.5, np.pi/360, 4, 30, 5)\n",
    "\n",
    "    houghlines = np.squeeze(houghlines)\n",
    "\n",
    "    left = []\n",
    "    right = []\n",
    "\n",
    "    if len(houghlines) > 1:\n",
    "        for line in houghlines:\n",
    "            if (line[3]-line[1])/(line[2]-line[0]) < 0:\n",
    "                left.append(line)\n",
    "                #cv2.line(line_img, (line[0], line[1]), (line[2], line[3]), [0,0,200], 8)\n",
    "            elif (line[3]-line[1])/(line[2]-line[0]) > 0:\n",
    "                right.append(line)\n",
    "                #cv2.line(line_img, (line[0], line[1]), (line[2], line[3]), [0,0,200], 8)\n",
    "\n",
    "    slope_left = median_slope(left)\n",
    "    slope_right = median_slope(right)\n",
    "\n",
    "    new_left = []\n",
    "    new_right = []\n",
    "\n",
    "    for line in left:\n",
    "        if (abs(get_slope(line) - slope_left) < 8):\n",
    "            new_left.append(line)\n",
    "\n",
    "    for line in right:\n",
    "        if (abs(get_slope(line) - slope_right) < 8):\n",
    "            new_right.append(line)\n",
    "\n",
    "    # Now lets use cv2.fitline\n",
    "\n",
    "    left_points = []\n",
    "    for line in new_left:\n",
    "        left_points.append((line[0], line[1]))\n",
    "        left_points.append((line[2], line[3]))\n",
    "\n",
    "    right_points = []\n",
    "    for line in new_right:\n",
    "        right_points.append((line[0], line[1]))\n",
    "        right_points.append((line[2], line[3]))\n",
    "\n",
    "\n",
    "    [vxl, vyl, xl, yl] = cv2.fitLine(np.array(left_points, dtype=np.int32), cv2.DIST_L2, 0, 0.01, 0.01)\n",
    "    [vxr, vyr, xr, yr] = cv2.fitLine(np.array(right_points, dtype=np.int32), cv2.DIST_L2, 0, 0.01, 0.01)\n",
    "\n",
    "    #Get current slopes\n",
    "    ml = vyl/vxl\n",
    "    mr = vyr/vxr\n",
    "\n",
    "    #Compare with previous frame\n",
    "    if len(left_previous) == 2:\n",
    "        [m_old, b_old] = left_previous\n",
    "        if (abs((ml*180/np.pi) - m_old) > 10):\n",
    "            ml = (m_old * np.pi/180)*0.8 + ml*0.2\n",
    "        if (abs((ml*180/np.pi) - m_old) > 5):\n",
    "            ml = (m_old * np.pi/180)*0.7 + ml*0.3\n",
    "        else:\n",
    "            ml = (m_old * np.pi/180)*0.5 + ml*0.5\n",
    "\n",
    "    if len(right_previous) == 2:\n",
    "        [m_old, b_old] = right_previous\n",
    "        if (abs((mr*180/np.pi) - m_old) > 10):\n",
    "            mr = (m_old * np.pi/180)*0.8 + mr*0.2\n",
    "        if (abs((mr*180/np.pi) - m_old) > 5):\n",
    "            mr = (m_old * np.pi/180)*0.7 + mr*0.3\n",
    "        else:\n",
    "            mr = (m_old * np.pi/180)*0.5 + mr*0.5\n",
    "\n",
    "    # Get current intercept using new slopes\n",
    "    bl = (yl - ml*xl)\n",
    "    br = (yr - mr*xr)\n",
    "\n",
    "    # Set new REFERENCE\n",
    "    left_previous = [ml*180/np.pi, bl]\n",
    "    right_previous = [mr*180/np.pi, br]\n",
    "\n",
    "    #Draw the lines\n",
    "    x1l = int((height - bl)/ml)\n",
    "    x2l = int((center_height - bl)/ml)\n",
    "    cv2.line(line_img, (x1l, height), (x2l, center_height), [255,0,0], 5)\n",
    "\n",
    "    x1r = int((height - br)/mr)\n",
    "    x2r = int((center_height - br)/mr)\n",
    "    cv2.line(line_img, (x1r, height), (x2r, center_height), [255,0,0], 5)\n",
    "    \n",
    "    overlay = weighted_img(line_img, image)\n",
    "    return overlay"
   ]
  },
  {
   "cell_type": "markdown",
   "metadata": {},
   "source": [
    "Let's try the one with the solid white lane on the right first ..."
   ]
  },
  {
   "cell_type": "code",
   "execution_count": 16,
   "metadata": {
    "collapsed": false,
    "scrolled": true
   },
   "outputs": [
    {
     "name": "stdout",
     "output_type": "stream",
     "text": [
      "[MoviePy] >>>> Building video white2.mp4\n",
      "[MoviePy] Writing video white2.mp4\n"
     ]
    },
    {
     "name": "stderr",
     "output_type": "stream",
     "text": [
      "100%|█████████▉| 221/222 [00:07<00:00, 28.13it/s]\n"
     ]
    },
    {
     "name": "stdout",
     "output_type": "stream",
     "text": [
      "[MoviePy] Done.\n",
      "[MoviePy] >>>> Video ready: white2.mp4 \n",
      "\n",
      "CPU times: user 3.86 s, sys: 1.19 s, total: 5.05 s\n",
      "Wall time: 8.09 s\n"
     ]
    }
   ],
   "source": [
    "white_output = 'white2.mp4'\n",
    "clip1 = VideoFileClip(\"solidWhiteRight.mp4\")\n",
    "\n",
    "# Import everything needed to edit/save/watch video clips\n",
    "from moviepy.editor import VideoFileClip\n",
    "from moviepy.video.VideoClip import VideoClip\n",
    "from IPython.display import HTML\n",
    "\n",
    "global width\n",
    "global height\n",
    "global center_height\n",
    "global left_bottom\n",
    "global right_bottom\n",
    "global left_previous\n",
    "global right_previous\n",
    "left_previous = []\n",
    "right_previous = []\n",
    "\n",
    "white_clip = clip1.fl_image(process_image) #NOTE: this function expects color images!!\n",
    "%time white_clip.write_videofile(white_output, audio=False)"
   ]
  },
  {
   "cell_type": "markdown",
   "metadata": {},
   "source": [
    "Play the video inline, or if you prefer find the video in your filesystem (should be in the same directory) and play it in your video player of choice."
   ]
  },
  {
   "cell_type": "code",
   "execution_count": 17,
   "metadata": {
    "collapsed": false,
    "scrolled": false
   },
   "outputs": [
    {
     "data": {
      "text/html": [
       "\n",
       "<video width=\"960\" height=\"540\" controls>\n",
       "  <source src=\"white2.mp4\">\n",
       "</video>\n"
      ],
      "text/plain": [
       "<IPython.core.display.HTML object>"
      ]
     },
     "execution_count": 17,
     "metadata": {},
     "output_type": "execute_result"
    }
   ],
   "source": [
    "HTML(\"\"\"\n",
    "<video width=\"960\" height=\"540\" controls>\n",
    "  <source src=\"{0}\">\n",
    "</video>\n",
    "\"\"\".format(white_output))"
   ]
  },
  {
   "cell_type": "markdown",
   "metadata": {},
   "source": [
    "**At this point, if you were successful you probably have the Hough line segments drawn onto the road, but what about identifying the full extent of the lane and marking it clearly as in the example video (P1_example.mp4)?  Think about defining a line to run the full length of the visible lane based on the line segments you identified with the Hough Transform.  Modify your draw_lines function accordingly and try re-running your pipeline.**"
   ]
  },
  {
   "cell_type": "markdown",
   "metadata": {},
   "source": [
    "Now for the one with the solid yellow lane on the left. This one's more tricky!"
   ]
  },
  {
   "cell_type": "code",
   "execution_count": null,
   "metadata": {
    "collapsed": false
   },
   "outputs": [],
   "source": [
    "yellow_output = 'yellow.mp4'\n",
    "clip2 = VideoFileClip('solidYellowLeft.mp4')\n",
    "yellow_clip = clip2.fl_image(process_image)\n",
    "%time yellow_clip.write_videofile(yellow_output, audio=False)"
   ]
  },
  {
   "cell_type": "code",
   "execution_count": null,
   "metadata": {
    "collapsed": false
   },
   "outputs": [],
   "source": [
    "HTML(\"\"\"\n",
    "<video width=\"960\" height=\"540\" controls>\n",
    "  <source src=\"{0}\">\n",
    "</video>\n",
    "\"\"\".format(yellow_output))"
   ]
  },
  {
   "cell_type": "markdown",
   "metadata": {},
   "source": [
    "## Reflections\n",
    "\n",
    "Well, well, well... I had to try over 4 different algorithms before finally getting this output. My first code produced fine lane markings but they were a little jittery. And in the end, simply removing the jitter took me 2 whole days.\n",
    "\n",
    "The code works okay-ish, but it breaks and throws and error when I try it on the challenge video below. Apparently, that happens when the program doesn't find *any* lines on a particular lane side, and the `cv2.fitLine` function doesn't work on empty points arrays. I tried to fix that but quite honestly I'm at the end of my patience here, haha.\n",
    "\n",
    "It can definitely be improved, and other students have tried using all sorts of filters from Kalman to Ransac. I think that's pretty advanced for me right now so I'll just settle for this non-jittery output (*I guess the challenge video will remain a mystery for me, unless YOU, my dear gentle reader, can throw some light on this issue and fix my code!*)\n"
   ]
  },
  {
   "cell_type": "markdown",
   "metadata": {},
   "source": [
    "## Submission\n",
    "\n",
    "If you're satisfied with your video outputs it's time to submit!  Submit this ipython notebook for review.\n"
   ]
  },
  {
   "cell_type": "markdown",
   "metadata": {
    "collapsed": true
   },
   "source": [
    "## Optional Challenge\n",
    "\n",
    "Try your lane finding pipeline on the video below.  Does it still work?  Can you figure out a way to make it more robust?  If you're up for the challenge, modify your pipeline so it works with this video and submit it along with the rest of your project!"
   ]
  },
  {
   "cell_type": "code",
   "execution_count": null,
   "metadata": {
    "collapsed": true
   },
   "outputs": [],
   "source": [
    "challenge_output = 'extra.mp4'\n",
    "clip2 = VideoFileClip('challenge.mp4')\n",
    "challenge_clip = clip2.fl_image(process_image)\n",
    "%time challenge_clip.write_videofile(challenge_output, audio=False)"
   ]
  },
  {
   "cell_type": "code",
   "execution_count": null,
   "metadata": {
    "collapsed": true
   },
   "outputs": [],
   "source": [
    "HTML(\"\"\"\n",
    "<video width=\"960\" height=\"540\" controls>\n",
    "  <source src=\"{0}\">\n",
    "</video>\n",
    "\"\"\".format(challenge_output))"
   ]
  }
 ],
 "metadata": {
  "anaconda-cloud": {},
  "kernelspec": {
   "display_name": "Python [conda root]",
   "language": "python",
   "name": "conda-root-py"
  },
  "language_info": {
   "codemirror_mode": {
    "name": "ipython",
    "version": 3
   },
   "file_extension": ".py",
   "mimetype": "text/x-python",
   "name": "python",
   "nbconvert_exporter": "python",
   "pygments_lexer": "ipython3",
   "version": "3.5.2"
  }
 },
 "nbformat": 4,
 "nbformat_minor": 0
}
